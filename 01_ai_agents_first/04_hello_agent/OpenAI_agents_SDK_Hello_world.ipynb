{
  "cells": [
    {
      "cell_type": "markdown",
      "metadata": {
        "id": "30327e3a"
      },
      "source": [
        "# 🚀 Exploring the openai-agents Library with Gemini\n",
        "This notebook shows how to use the openai-agents library with Gemini API to build conversational agents—covering two execution methods"
      ]
    },
    {
      "cell_type": "markdown",
      "metadata": {
        "id": "wd12XkqwSRxc"
      },
      "source": [
        "# 📦 installation"
      ]
    },
    {
      "cell_type": "code",
      "execution_count": 1,
      "metadata": {
        "id": "8U2DuZP0_1Iu",
        "colab": {
          "base_uri": "https://localhost:8080/"
        },
        "outputId": "b2dc9eca-8d82-4aa8-95c0-5e7871be1aee"
      },
      "outputs": [
        {
          "output_type": "stream",
          "name": "stdout",
          "text": [
            "\u001b[2K     \u001b[90m━━━━━━━━━━━━━━━━━━━━━━━━━━━━━━━━━━━━━━━━\u001b[0m \u001b[32m68.2/68.2 kB\u001b[0m \u001b[31m1.6 MB/s\u001b[0m eta \u001b[36m0:00:00\u001b[0m\n",
            "\u001b[2K   \u001b[90m━━━━━━━━━━━━━━━━━━━━━━━━━━━━━━━━━━━━━━━━\u001b[0m \u001b[32m166.1/166.1 kB\u001b[0m \u001b[31m5.6 MB/s\u001b[0m eta \u001b[36m0:00:00\u001b[0m\n",
            "\u001b[2K   \u001b[90m━━━━━━━━━━━━━━━━━━━━━━━━━━━━━━━━━━━━━━━━\u001b[0m \u001b[32m138.7/138.7 kB\u001b[0m \u001b[31m9.6 MB/s\u001b[0m eta \u001b[36m0:00:00\u001b[0m\n",
            "\u001b[2K   \u001b[90m━━━━━━━━━━━━━━━━━━━━━━━━━━━━━━━━━━━━━━━━\u001b[0m \u001b[32m160.1/160.1 kB\u001b[0m \u001b[31m12.8 MB/s\u001b[0m eta \u001b[36m0:00:00\u001b[0m\n",
            "\u001b[2K   \u001b[90m━━━━━━━━━━━━━━━━━━━━━━━━━━━━━━━━━━━━━━━━\u001b[0m \u001b[32m786.8/786.8 kB\u001b[0m \u001b[31m23.5 MB/s\u001b[0m eta \u001b[36m0:00:00\u001b[0m\n",
            "\u001b[2K   \u001b[90m━━━━━━━━━━━━━━━━━━━━━━━━━━━━━━━━━━━━━━━━\u001b[0m \u001b[32m45.2/45.2 kB\u001b[0m \u001b[31m2.8 MB/s\u001b[0m eta \u001b[36m0:00:00\u001b[0m\n",
            "\u001b[?25h"
          ]
        }
      ],
      "source": [
        "!pip install -Uq openai-agents\n"
      ]
    },
    {
      "cell_type": "markdown",
      "metadata": {
        "id": "jL-reb6RR_H6"
      },
      "source": [
        "# 📦 Imports"
      ]
    },
    {
      "cell_type": "code",
      "execution_count": 2,
      "metadata": {
        "id": "OE_-gMwUDw8b"
      },
      "outputs": [],
      "source": [
        "import nest_asyncio\n",
        "nest_asyncio.apply()"
      ]
    },
    {
      "cell_type": "markdown",
      "metadata": {
        "id": "MywTysH-Rn2h"
      },
      "source": [
        "# 📦 Imports"
      ]
    },
    {
      "cell_type": "code",
      "execution_count": 8,
      "metadata": {
        "id": "dvNo75PtD5YL"
      },
      "outputs": [],
      "source": [
        "from agents import Agent, Runner, AsyncOpenAI, OpenAIChatCompletionsModel, set_tracing_disabled"
      ]
    },
    {
      "cell_type": "markdown",
      "metadata": {
        "id": "uO3deejXRZw8"
      },
      "source": [
        "# 🔐 Step 1: Setup for Api Keys"
      ]
    },
    {
      "cell_type": "code",
      "execution_count": 10,
      "metadata": {
        "id": "9p1ynoc0EDCx"
      },
      "outputs": [],
      "source": [
        "from google.colab import userdata\n",
        "gemini_api_key = userdata.get(\"GOOGLE_API_KEY\")\n"
      ]
    },
    {
      "cell_type": "markdown",
      "metadata": {
        "id": "S4GITaFOP526"
      },
      "source": [
        "# 🌐  Step 2: Client Setup for Connecting to **Gemini**"
      ]
    },
    {
      "cell_type": "code",
      "execution_count": 9,
      "metadata": {
        "id": "IofWknGLEHHI"
      },
      "outputs": [],
      "source": [
        "# Tracing disabled\n",
        "set_tracing_disabled(disabled=True)\n",
        "\n",
        "# 1. Which LLM Service?\n",
        "external_client: AsyncOpenAI = AsyncOpenAI(\n",
        "    api_key=gemini_api_key,\n",
        "    base_url=\"https://generativelanguage.googleapis.com/v1beta/openai/\",\n",
        ")\n",
        "\n",
        "# 2. Which LLM Model?\n",
        "llm_model: OpenAIChatCompletionsModel = OpenAIChatCompletionsModel(\n",
        "    model=\"gemini-2.5-flash\",\n",
        "    openai_client=external_client\n",
        ")"
      ]
    },
    {
      "cell_type": "markdown",
      "metadata": {
        "id": "Upg62mcUJUB4"
      },
      "source": [
        "# 💬  Step 3 Running Agent Synchronously"
      ]
    },
    {
      "cell_type": "code",
      "execution_count": 12,
      "metadata": {
        "colab": {
          "base_uri": "https://localhost:8080/"
        },
        "collapsed": true,
        "id": "4QgfJqHZJV_M",
        "outputId": "7afaf127-407e-4075-8e9e-b6e031dc693b"
      },
      "outputs": [
        {
          "output_type": "stream",
          "name": "stdout",
          "text": [
            "\n",
            "CALLING AGENT\n",
            "\n",
            "Learning Python is practically a **prerequisite** for working with AI agents, and here's why it's the dominant language in this rapidly evolving field:\n",
            "\n",
            "1.  **Rich Ecosystem & Specialized Libraries:**\n",
            "    *   **Machine Learning & Deep Learning Powerhouses:** Python is home to the most popular and powerful libraries for AI:\n",
            "        *   **TensorFlow & Keras:** Google's open-source library for deep learning, widely used for building complex neural networks.\n",
            "        *   **PyTorch:** Facebook's open-source deep learning framework, known for its flexibility and ease of use in research and development.\n",
            "        *   **scikit-learn:** A comprehensive library for traditional machine learning algorithms (classification, regression, clustering), essential for many agent components.\n",
            "    *   **Data Manipulation & Analysis:**\n",
            "        *   **NumPy:** The fundamental package for numerical computation in Python, crucial for handling large arrays and matrices of data.\n",
            "        *   **Pandas:** Provides powerful data structures (DataFrames) and tools for data cleaning, transformation, and analysis, which agents often need to process their \"perceptions.\"\n",
            "    *   **Natural Language Processing (NLP) & Computer Vision (CV):**\n",
            "        *   **NLTK, spaCy, Hugging Face Transformers:** Essential for agents that need to understand or generate human language.\n",
            "        *   **OpenCV (Python Bindings):** For agents that process visual information.\n",
            "    *   **Agent-Specific Frameworks:** Newer, Python-native frameworks are emerging specifically for building AI agents:\n",
            "        *   **LangChain:** A popular framework for developing applications powered by Large Language Models (LLMs), enabling agents to chain together various LLM calls, tools, and data sources.\n",
            "        *   **LlamaIndex:** Focuses on connecting LLMs with external data, allowing agents to ingest, structure, and query data for reasoning.\n",
            "        *   **Auto-GPT, BabyAGI, CrewAI:** Many experimental and practical agent architectures are built directly in Python, leveraging the LLM APIs and other libraries.\n",
            "\n",
            "2.  **Ease of Use & Readability:**\n",
            "    *   **Lower Learning Curve:** Python's syntax is intuitive and close to natural language, making it easier for beginners to pick up and for experienced developers to write code quickly.\n",
            "    *   **Focus on Logic, Not Boilerplate:** Its simplicity allows developers to concentrate on the complex AI agent logic rather than wrestling with intricate language specifics. This is critical for rapid prototyping and iteration, which is common in AI development.\n",
            "\n",
            "3.  **Vast Community Support:**\n",
            "    *   **Extensive Documentation & Tutorials:** Nearly every AI concept or library has abundant Python examples, tutorials, and documentation available.\n",
            "    *   **Active Forums & Open Source:** A massive and active community means quick answers to questions, shared solutions, and a continuous stream of new tools and resources.\n",
            "    *   **Research & Academia:** Python is the language of choice in AI research, meaning the latest breakthroughs and algorithms are often implemented first in Python.\n",
            "\n",
            "4.  **Rapid Prototyping & Iteration:**\n",
            "    *   **Interpreted Language:** Python is an interpreted language, allowing for quick execution and testing of code snippets. This is invaluable when experimenting with different agent behaviors, model architectures, or data processing pipelines.\n",
            "    *   **Jupyter Notebooks:** Python, combined with Jupyter Notebooks, provides an interactive environment perfect for iterative development, data exploration, and presenting results—ideal for designing and debugging agent logic.\n",
            "\n",
            "5.  **Integration Capabilities:**\n",
            "    *   **APIs & Web Services:** Python has excellent libraries for interacting with web APIs (like `requests`), databases, and other services. Modern AI agents frequently need to interact with external tools, knowledge bases, and user interfaces.\n",
            "    *   **Cross-Platform:** Python runs on Windows, macOS, and Linux, making it versatile for development and deployment environments.\n",
            "    *   **Glue Language:** While core numerical computations in libraries like TensorFlow or PyTorch might be optimized C++ or CUDA code, Python acts as the \"glue\" language that orchestrates these high-performance operations, making them accessible and usable.\n",
            "\n",
            "6.  **Specific to LLM-Powered Agents:**\n",
            "    *   **API Wrappers:** Almost all major LLM providers (OpenAI, Anthropic, Google, etc.) offer official or community-maintained Python SDKs to interact with their models.\n",
            "    *   **Tooling Integration:** Agents often need to use external tools (e.g., search engines, calculators, code interpreters). Python's versatility makes it easy to integrate and wrap these tools for an agent to use.\n",
            "\n",
            "In summary, if you want to build, train, or deploy AI agents, **Python provides the most comprehensive, user-friendly, and powerful toolkit available.** It's not just a good choice; it's the *de facto* standard that will enable you to leverage the latest advancements and contribute to the field effectively.\n"
          ]
        }
      ],
      "source": [
        "math_agent: Agent = Agent(name=\"PythonAgent\",\n",
        "                     instructions=\"You are a helpful Python assistant.\",\n",
        "                     model=llm_model) # gemini-2.5 as agent brain - chat completions\n",
        "\n",
        "result: Runner = Runner.run_sync(math_agent, \"why learn Python for AI Agents?\")\n",
        "\n",
        "print(\"\\nCALLING AGENT\\n\")\n",
        "print(result.final_output)"
      ]
    },
    {
      "cell_type": "code",
      "execution_count": 13,
      "metadata": {
        "colab": {
          "base_uri": "https://localhost:8080/"
        },
        "collapsed": true,
        "id": "Z5oKiMPbd7BC",
        "outputId": "d61b3f72-83ad-4b82-fccd-d1d1c41b2b4f"
      },
      "outputs": [
        {
          "output_type": "execute_result",
          "data": {
            "text/plain": [
              "RunResult(input='why learn Python for AI Agents?', new_items=[MessageOutputItem(agent=Agent(name='PythonAgent', handoff_description=None, tools=[], mcp_servers=[], mcp_config={}, instructions='You are a helpful Python assistant.', prompt=None, handoffs=[], model=<agents.models.openai_chatcompletions.OpenAIChatCompletionsModel object at 0x79dc33b1ab90>, model_settings=ModelSettings(temperature=None, top_p=None, frequency_penalty=None, presence_penalty=None, tool_choice=None, parallel_tool_calls=None, truncation=None, max_tokens=None, reasoning=None, metadata=None, store=None, include_usage=None, response_include=None, top_logprobs=None, extra_query=None, extra_body=None, extra_headers=None, extra_args=None), input_guardrails=[], output_guardrails=[], output_type=None, hooks=None, tool_use_behavior='run_llm_again', reset_tool_choice=True), raw_item=ResponseOutputMessage(id='__fake_id__', content=[ResponseOutputText(annotations=[], text='Learning Python is practically a **prerequisite** for working with AI agents, and here\\'s why it\\'s the dominant language in this rapidly evolving field:\\n\\n1.  **Rich Ecosystem & Specialized Libraries:**\\n    *   **Machine Learning & Deep Learning Powerhouses:** Python is home to the most popular and powerful libraries for AI:\\n        *   **TensorFlow & Keras:** Google\\'s open-source library for deep learning, widely used for building complex neural networks.\\n        *   **PyTorch:** Facebook\\'s open-source deep learning framework, known for its flexibility and ease of use in research and development.\\n        *   **scikit-learn:** A comprehensive library for traditional machine learning algorithms (classification, regression, clustering), essential for many agent components.\\n    *   **Data Manipulation & Analysis:**\\n        *   **NumPy:** The fundamental package for numerical computation in Python, crucial for handling large arrays and matrices of data.\\n        *   **Pandas:** Provides powerful data structures (DataFrames) and tools for data cleaning, transformation, and analysis, which agents often need to process their \"perceptions.\"\\n    *   **Natural Language Processing (NLP) & Computer Vision (CV):**\\n        *   **NLTK, spaCy, Hugging Face Transformers:** Essential for agents that need to understand or generate human language.\\n        *   **OpenCV (Python Bindings):** For agents that process visual information.\\n    *   **Agent-Specific Frameworks:** Newer, Python-native frameworks are emerging specifically for building AI agents:\\n        *   **LangChain:** A popular framework for developing applications powered by Large Language Models (LLMs), enabling agents to chain together various LLM calls, tools, and data sources.\\n        *   **LlamaIndex:** Focuses on connecting LLMs with external data, allowing agents to ingest, structure, and query data for reasoning.\\n        *   **Auto-GPT, BabyAGI, CrewAI:** Many experimental and practical agent architectures are built directly in Python, leveraging the LLM APIs and other libraries.\\n\\n2.  **Ease of Use & Readability:**\\n    *   **Lower Learning Curve:** Python\\'s syntax is intuitive and close to natural language, making it easier for beginners to pick up and for experienced developers to write code quickly.\\n    *   **Focus on Logic, Not Boilerplate:** Its simplicity allows developers to concentrate on the complex AI agent logic rather than wrestling with intricate language specifics. This is critical for rapid prototyping and iteration, which is common in AI development.\\n\\n3.  **Vast Community Support:**\\n    *   **Extensive Documentation & Tutorials:** Nearly every AI concept or library has abundant Python examples, tutorials, and documentation available.\\n    *   **Active Forums & Open Source:** A massive and active community means quick answers to questions, shared solutions, and a continuous stream of new tools and resources.\\n    *   **Research & Academia:** Python is the language of choice in AI research, meaning the latest breakthroughs and algorithms are often implemented first in Python.\\n\\n4.  **Rapid Prototyping & Iteration:**\\n    *   **Interpreted Language:** Python is an interpreted language, allowing for quick execution and testing of code snippets. This is invaluable when experimenting with different agent behaviors, model architectures, or data processing pipelines.\\n    *   **Jupyter Notebooks:** Python, combined with Jupyter Notebooks, provides an interactive environment perfect for iterative development, data exploration, and presenting results—ideal for designing and debugging agent logic.\\n\\n5.  **Integration Capabilities:**\\n    *   **APIs & Web Services:** Python has excellent libraries for interacting with web APIs (like `requests`), databases, and other services. Modern AI agents frequently need to interact with external tools, knowledge bases, and user interfaces.\\n    *   **Cross-Platform:** Python runs on Windows, macOS, and Linux, making it versatile for development and deployment environments.\\n    *   **Glue Language:** While core numerical computations in libraries like TensorFlow or PyTorch might be optimized C++ or CUDA code, Python acts as the \"glue\" language that orchestrates these high-performance operations, making them accessible and usable.\\n\\n6.  **Specific to LLM-Powered Agents:**\\n    *   **API Wrappers:** Almost all major LLM providers (OpenAI, Anthropic, Google, etc.) offer official or community-maintained Python SDKs to interact with their models.\\n    *   **Tooling Integration:** Agents often need to use external tools (e.g., search engines, calculators, code interpreters). Python\\'s versatility makes it easy to integrate and wrap these tools for an agent to use.\\n\\nIn summary, if you want to build, train, or deploy AI agents, **Python provides the most comprehensive, user-friendly, and powerful toolkit available.** It\\'s not just a good choice; it\\'s the *de facto* standard that will enable you to leverage the latest advancements and contribute to the field effectively.', type='output_text', logprobs=None)], role='assistant', status='completed', type='message'), type='message_output_item')], raw_responses=[ModelResponse(output=[ResponseOutputMessage(id='__fake_id__', content=[ResponseOutputText(annotations=[], text='Learning Python is practically a **prerequisite** for working with AI agents, and here\\'s why it\\'s the dominant language in this rapidly evolving field:\\n\\n1.  **Rich Ecosystem & Specialized Libraries:**\\n    *   **Machine Learning & Deep Learning Powerhouses:** Python is home to the most popular and powerful libraries for AI:\\n        *   **TensorFlow & Keras:** Google\\'s open-source library for deep learning, widely used for building complex neural networks.\\n        *   **PyTorch:** Facebook\\'s open-source deep learning framework, known for its flexibility and ease of use in research and development.\\n        *   **scikit-learn:** A comprehensive library for traditional machine learning algorithms (classification, regression, clustering), essential for many agent components.\\n    *   **Data Manipulation & Analysis:**\\n        *   **NumPy:** The fundamental package for numerical computation in Python, crucial for handling large arrays and matrices of data.\\n        *   **Pandas:** Provides powerful data structures (DataFrames) and tools for data cleaning, transformation, and analysis, which agents often need to process their \"perceptions.\"\\n    *   **Natural Language Processing (NLP) & Computer Vision (CV):**\\n        *   **NLTK, spaCy, Hugging Face Transformers:** Essential for agents that need to understand or generate human language.\\n        *   **OpenCV (Python Bindings):** For agents that process visual information.\\n    *   **Agent-Specific Frameworks:** Newer, Python-native frameworks are emerging specifically for building AI agents:\\n        *   **LangChain:** A popular framework for developing applications powered by Large Language Models (LLMs), enabling agents to chain together various LLM calls, tools, and data sources.\\n        *   **LlamaIndex:** Focuses on connecting LLMs with external data, allowing agents to ingest, structure, and query data for reasoning.\\n        *   **Auto-GPT, BabyAGI, CrewAI:** Many experimental and practical agent architectures are built directly in Python, leveraging the LLM APIs and other libraries.\\n\\n2.  **Ease of Use & Readability:**\\n    *   **Lower Learning Curve:** Python\\'s syntax is intuitive and close to natural language, making it easier for beginners to pick up and for experienced developers to write code quickly.\\n    *   **Focus on Logic, Not Boilerplate:** Its simplicity allows developers to concentrate on the complex AI agent logic rather than wrestling with intricate language specifics. This is critical for rapid prototyping and iteration, which is common in AI development.\\n\\n3.  **Vast Community Support:**\\n    *   **Extensive Documentation & Tutorials:** Nearly every AI concept or library has abundant Python examples, tutorials, and documentation available.\\n    *   **Active Forums & Open Source:** A massive and active community means quick answers to questions, shared solutions, and a continuous stream of new tools and resources.\\n    *   **Research & Academia:** Python is the language of choice in AI research, meaning the latest breakthroughs and algorithms are often implemented first in Python.\\n\\n4.  **Rapid Prototyping & Iteration:**\\n    *   **Interpreted Language:** Python is an interpreted language, allowing for quick execution and testing of code snippets. This is invaluable when experimenting with different agent behaviors, model architectures, or data processing pipelines.\\n    *   **Jupyter Notebooks:** Python, combined with Jupyter Notebooks, provides an interactive environment perfect for iterative development, data exploration, and presenting results—ideal for designing and debugging agent logic.\\n\\n5.  **Integration Capabilities:**\\n    *   **APIs & Web Services:** Python has excellent libraries for interacting with web APIs (like `requests`), databases, and other services. Modern AI agents frequently need to interact with external tools, knowledge bases, and user interfaces.\\n    *   **Cross-Platform:** Python runs on Windows, macOS, and Linux, making it versatile for development and deployment environments.\\n    *   **Glue Language:** While core numerical computations in libraries like TensorFlow or PyTorch might be optimized C++ or CUDA code, Python acts as the \"glue\" language that orchestrates these high-performance operations, making them accessible and usable.\\n\\n6.  **Specific to LLM-Powered Agents:**\\n    *   **API Wrappers:** Almost all major LLM providers (OpenAI, Anthropic, Google, etc.) offer official or community-maintained Python SDKs to interact with their models.\\n    *   **Tooling Integration:** Agents often need to use external tools (e.g., search engines, calculators, code interpreters). Python\\'s versatility makes it easy to integrate and wrap these tools for an agent to use.\\n\\nIn summary, if you want to build, train, or deploy AI agents, **Python provides the most comprehensive, user-friendly, and powerful toolkit available.** It\\'s not just a good choice; it\\'s the *de facto* standard that will enable you to leverage the latest advancements and contribute to the field effectively.', type='output_text', logprobs=None)], role='assistant', status='completed', type='message')], usage=Usage(requests=1, input_tokens=16, input_tokens_details=InputTokensDetails(cached_tokens=0), output_tokens=1045, output_tokens_details=OutputTokensDetails(reasoning_tokens=0), total_tokens=2321), response_id=None)], final_output='Learning Python is practically a **prerequisite** for working with AI agents, and here\\'s why it\\'s the dominant language in this rapidly evolving field:\\n\\n1.  **Rich Ecosystem & Specialized Libraries:**\\n    *   **Machine Learning & Deep Learning Powerhouses:** Python is home to the most popular and powerful libraries for AI:\\n        *   **TensorFlow & Keras:** Google\\'s open-source library for deep learning, widely used for building complex neural networks.\\n        *   **PyTorch:** Facebook\\'s open-source deep learning framework, known for its flexibility and ease of use in research and development.\\n        *   **scikit-learn:** A comprehensive library for traditional machine learning algorithms (classification, regression, clustering), essential for many agent components.\\n    *   **Data Manipulation & Analysis:**\\n        *   **NumPy:** The fundamental package for numerical computation in Python, crucial for handling large arrays and matrices of data.\\n        *   **Pandas:** Provides powerful data structures (DataFrames) and tools for data cleaning, transformation, and analysis, which agents often need to process their \"perceptions.\"\\n    *   **Natural Language Processing (NLP) & Computer Vision (CV):**\\n        *   **NLTK, spaCy, Hugging Face Transformers:** Essential for agents that need to understand or generate human language.\\n        *   **OpenCV (Python Bindings):** For agents that process visual information.\\n    *   **Agent-Specific Frameworks:** Newer, Python-native frameworks are emerging specifically for building AI agents:\\n        *   **LangChain:** A popular framework for developing applications powered by Large Language Models (LLMs), enabling agents to chain together various LLM calls, tools, and data sources.\\n        *   **LlamaIndex:** Focuses on connecting LLMs with external data, allowing agents to ingest, structure, and query data for reasoning.\\n        *   **Auto-GPT, BabyAGI, CrewAI:** Many experimental and practical agent architectures are built directly in Python, leveraging the LLM APIs and other libraries.\\n\\n2.  **Ease of Use & Readability:**\\n    *   **Lower Learning Curve:** Python\\'s syntax is intuitive and close to natural language, making it easier for beginners to pick up and for experienced developers to write code quickly.\\n    *   **Focus on Logic, Not Boilerplate:** Its simplicity allows developers to concentrate on the complex AI agent logic rather than wrestling with intricate language specifics. This is critical for rapid prototyping and iteration, which is common in AI development.\\n\\n3.  **Vast Community Support:**\\n    *   **Extensive Documentation & Tutorials:** Nearly every AI concept or library has abundant Python examples, tutorials, and documentation available.\\n    *   **Active Forums & Open Source:** A massive and active community means quick answers to questions, shared solutions, and a continuous stream of new tools and resources.\\n    *   **Research & Academia:** Python is the language of choice in AI research, meaning the latest breakthroughs and algorithms are often implemented first in Python.\\n\\n4.  **Rapid Prototyping & Iteration:**\\n    *   **Interpreted Language:** Python is an interpreted language, allowing for quick execution and testing of code snippets. This is invaluable when experimenting with different agent behaviors, model architectures, or data processing pipelines.\\n    *   **Jupyter Notebooks:** Python, combined with Jupyter Notebooks, provides an interactive environment perfect for iterative development, data exploration, and presenting results—ideal for designing and debugging agent logic.\\n\\n5.  **Integration Capabilities:**\\n    *   **APIs & Web Services:** Python has excellent libraries for interacting with web APIs (like `requests`), databases, and other services. Modern AI agents frequently need to interact with external tools, knowledge bases, and user interfaces.\\n    *   **Cross-Platform:** Python runs on Windows, macOS, and Linux, making it versatile for development and deployment environments.\\n    *   **Glue Language:** While core numerical computations in libraries like TensorFlow or PyTorch might be optimized C++ or CUDA code, Python acts as the \"glue\" language that orchestrates these high-performance operations, making them accessible and usable.\\n\\n6.  **Specific to LLM-Powered Agents:**\\n    *   **API Wrappers:** Almost all major LLM providers (OpenAI, Anthropic, Google, etc.) offer official or community-maintained Python SDKs to interact with their models.\\n    *   **Tooling Integration:** Agents often need to use external tools (e.g., search engines, calculators, code interpreters). Python\\'s versatility makes it easy to integrate and wrap these tools for an agent to use.\\n\\nIn summary, if you want to build, train, or deploy AI agents, **Python provides the most comprehensive, user-friendly, and powerful toolkit available.** It\\'s not just a good choice; it\\'s the *de facto* standard that will enable you to leverage the latest advancements and contribute to the field effectively.', input_guardrail_results=[], output_guardrail_results=[], context_wrapper=RunContextWrapper(context=None, usage=Usage(requests=1, input_tokens=16, input_tokens_details=InputTokensDetails(cached_tokens=0), output_tokens=1045, output_tokens_details=OutputTokensDetails(reasoning_tokens=0), total_tokens=2321)), _last_agent=Agent(name='PythonAgent', handoff_description=None, tools=[], mcp_servers=[], mcp_config={}, instructions='You are a helpful Python assistant.', prompt=None, handoffs=[], model=<agents.models.openai_chatcompletions.OpenAIChatCompletionsModel object at 0x79dc33b1ab90>, model_settings=ModelSettings(temperature=None, top_p=None, frequency_penalty=None, presence_penalty=None, tool_choice=None, parallel_tool_calls=None, truncation=None, max_tokens=None, reasoning=None, metadata=None, store=None, include_usage=None, response_include=None, top_logprobs=None, extra_query=None, extra_body=None, extra_headers=None, extra_args=None), input_guardrails=[], output_guardrails=[], output_type=None, hooks=None, tool_use_behavior='run_llm_again', reset_tool_choice=True))"
            ]
          },
          "metadata": {},
          "execution_count": 13
        }
      ],
      "source": [
        "result\n"
      ]
    },
    {
      "cell_type": "markdown",
      "metadata": {
        "id": "1m8xnCs4KKG5"
      },
      "source": [
        "# 💬 Step 3: Running Agent Asynchronously"
      ]
    },
    {
      "cell_type": "code",
      "execution_count": null,
      "metadata": {
        "colab": {
          "base_uri": "https://localhost:8080/"
        },
        "collapsed": true,
        "id": "jZA-iSR9KMJ9",
        "outputId": "a88992a8-ea32-4531-cdbf-27d30afc5ba1"
      },
      "outputs": [
        {
          "name": "stdout",
          "output_type": "stream",
          "text": [
            "Recursion in programming is a powerful concept where a function calls itself, directly or indirectly, to solve a problem. Think of it as defining something in terms of itself, but with a built-in \"stop\" condition.\n",
            "\n",
            "To understand recursion, you need to grasp two main components:\n",
            "\n",
            "1.  **Base Case:** This is the essential condition that stops the recursion. Without a base case, the function would call itself indefinitely, leading to an infinite loop (and eventually a \"stack overflow\" error). The base case provides a direct answer for the simplest version of the problem.\n",
            "2.  **Recursive Step:** This is the part where the function calls itself with a modified (usually smaller or simpler) input. The idea is that you break down the problem into smaller, similar subproblems until you reach the base case.\n",
            "\n",
            "### How Recursion Works (Under the Hood): The Call Stack\n",
            "\n",
            "When a function is called, the computer allocates a block of memory on something called the **call stack**. This block, known as a **stack frame**, stores information about that function call (its local variables, parameters, and the point in the code to return to after the function finishes).\n",
            "\n",
            "When a recursive function calls itself, a new stack frame is pushed onto the stack for each call. This continues until the base case is reached. Once the base case returns a value, the stack frames start to \"unwind\" one by one. Each function call finishes its execution using the return value from the call beneath it, until the very first call completes and returns the final result.\n",
            "\n",
            "### Analogy: Matryoshka Dolls (Russian Nesting Dolls)\n",
            "\n",
            "Imagine you have a set of Matryoshka dolls.\n",
            "*   **The Problem:** Find the smallest doll inside.\n",
            "*   **Recursive Step:** If the doll in your hand isn't the smallest, open it.\n",
            "*   **Base Case:** If the doll you're holding *is* the smallest (you can't open it further), you've found your answer.\n",
            "\n",
            "You keep opening dolls (recursive step) until you hit the smallest one (base case). Then you know the answer for that doll, and you can close up the larger dolls, one by one, until you've closed all of them, having found the smallest.\n",
            "\n",
            "### When to Use Recursion (Advantages):\n",
            "\n",
            "1.  **Elegance and Readability:** For problems that are naturally self-similar or can be defined in terms of smaller versions of themselves, recursive solutions can be very clean, intuitive, and concise.\n",
            "2.  **Solving Specific Problem Types:**\n",
            "    *   **Tree and Graph Traversal:** Many algorithms for traversing data structures like trees (e.g., depth-first search, in-order/pre-order/post-order traversals) are inherently recursive.\n",
            "    *   **Divide and Conquer Algorithms:** Algorithms like Merge Sort, Quick Sort, and binary search break a problem into smaller subproblems, solve them recursively, and then combine the results.\n",
            "    *   **Fractals:** Generating fractals is often done recursively.\n",
            "\n",
            "### When Not to Use Recursion (Disadvantages and Considerations):\n",
            "\n",
            "1.  **Performance Overhead:** Each function call has some overhead (managing the call stack, saving/restoring registers). For simple problems, an iterative (loop-based) solution is often faster and more memory-efficient.\n",
            "2.  **Memory Usage (Stack Overflow):** If the recursion goes too deep (too many nested calls), it can exhaust the available memory on the call stack, leading to a \"Stack Overflow Error.\" This is common if the base case is not reachable or the problem size is too large for the recursion depth.\n",
            "3.  **Debugging:** Tracing the execution flow of recursive functions can be more challenging than iterative ones, as you're jumping in and out of the same function.\n",
            "4.  **Tail Recursion Optimization (Advanced):** Some compilers and interpreters can optimize a specific type of recursion called \"tail recursion\" to behave more like an iteration, reducing the stack overhead. However, not all languages or environments support this.\n",
            "\n",
            "### Example: Calculating Factorial\n",
            "\n",
            "The factorial of a non-negative integer `n`, denoted `n!`, is the product of all positive integers less than or equal to `n`.\n",
            "*   `5! = 5 * 4 * 3 * 2 * 1 = 120`\n",
            "*   `0! = 1` (by definition, this is our base case)\n",
            "\n",
            "Notice that `5! = 5 * (4!)`, and `4! = 4 * (3!)`, and so on. This shows the recursive nature.\n",
            "\n",
            "**Recursive Function in Python:**\n",
            "\n",
            "```python\n",
            "def factorial(n):\n",
            "    # 1. Base Case:\n",
            "    if n == 0:\n",
            "        return 1\n",
            "    # 2. Recursive Step:\n",
            "    else:\n",
            "        return n * factorial(n - 1)\n",
            "\n",
            "# Let's trace factorial(3):\n",
            "# factorial(3)\n",
            "#   -> return 3 * factorial(2)\n",
            "#                   -> return 2 * factorial(1)\n",
            "#                                   -> return 1 * factorial(0)\n",
            "#                                                   -> return 1 (Base case reached!)\n",
            "#                                   -> returns 1 * 1 = 1\n",
            "#                   -> returns 2 * 1 = 2\n",
            "#   -> returns 3 * 2 = 6\n",
            "\n",
            "print(factorial(5))  # Output: 120\n",
            "print(factorial(0))  # Output: 1\n",
            "# print(factorial(-1)) # This would lead to infinite recursion and a Stack Overflow!\n",
            "```\n",
            "\n",
            "### In Summary:\n",
            "\n",
            "Recursion is a powerful and elegant technique for solving problems that can be broken down into smaller, self-similar subproblems. It's crucial to always define a clear **base case** to prevent infinite loops. While it offers readability and simplicity for certain problem domains, be mindful of its potential performance and memory overhead compared to iterative solutions.\n"
          ]
        }
      ],
      "source": [
        "import asyncio\n",
        "\n",
        "async def main():\n",
        "\n",
        "    result: Runner = await Runner.run(math_agent, \"Tell me about recursion in programming.\")\n",
        "\n",
        "    print(result.final_output)\n",
        "\n",
        "\n",
        "asyncio.run(main())"
      ]
    },
    {
      "cell_type": "markdown",
      "metadata": {
        "id": "7RKgPtw2XlJs"
      },
      "source": [
        "## Example 1:\n",
        "### 👨‍🍳🍽️ Recipe Bot"
      ]
    },
    {
      "cell_type": "code",
      "execution_count": 14,
      "metadata": {
        "id": "0LzWsFBvapjz"
      },
      "outputs": [],
      "source": [
        "set_tracing_disabled(disabled=True)\n",
        "\n",
        "# Client Setup for Connecting to Gemini\n",
        "external_client:AsyncOpenAI = AsyncOpenAI(\n",
        "    api_key=gemini_api_key,\n",
        "    base_url=\"https://generativelanguage.googleapis.com/v1beta/openai/\",\n",
        ")\n",
        "\n",
        "#Initialize model\n",
        "model:OpenAIChatCompletionsModel = OpenAIChatCompletionsModel(\n",
        "    model=\"gemini-2.5-flash\",\n",
        "    openai_client=external_client\n",
        ")\n",
        "\n",
        "def main():\n",
        "  # Create the Recipe Agent\n",
        "  agent = Agent(\n",
        "      name=\"RecipeBot\",\n",
        "      instructions=(\n",
        "          \"\"\"You are a helpful recipe assistant. A user will give you a few ingredients\n",
        "          they have at home, and you will suggest one simple and quick recipe using only those items.\n",
        "          Keep it short, step-by-step, and easy for beginners to cook.\"\"\"\n",
        "      ),\n",
        "      model=model\n",
        "  )\n",
        "\n",
        "  print(\"\\n🍳 What can I cook today?\\n\")\n",
        "  ingredients = \"eggs, tomatoes, onions, and bread\"\n",
        "  result:Runner = Runner.run_sync(agent, f\"I have these at home: {ingredients}. What can I cook?\")\n",
        "\n",
        "  print(result.final_output)"
      ]
    },
    {
      "cell_type": "code",
      "execution_count": 15,
      "metadata": {
        "colab": {
          "base_uri": "https://localhost:8080/"
        },
        "id": "DyfXjUXsawYr",
        "outputId": "b75f3f16-53b8-4af9-a643-bfc79dd35834"
      },
      "outputs": [
        {
          "output_type": "stream",
          "name": "stdout",
          "text": [
            "\n",
            "🍳 What can I cook today?\n",
            "\n",
            "Here's a quick and easy idea:\n",
            "\n",
            "**Simple Egg & Tomato Toast**\n",
            "\n",
            "**Ingredients:**\n",
            "*   Eggs\n",
            "*   Tomatoes\n",
            "*   Onions\n",
            "*   Bread\n",
            "\n",
            "**Instructions:**\n",
            "1.  **Prep:** Dice a small amount of onion and tomato.\n",
            "2.  **Sauté Veggies:** In a pan, cook the diced onion until softened. Add the diced tomato and cook for another minute or two until slightly tender.\n",
            "3.  **Cook Eggs:** Whisk 2-3 eggs in a bowl. Pour them into the pan with the vegetables and scramble until cooked through.\n",
            "4.  **Toast Bread:** While the eggs are cooking, toast your bread.\n",
            "5.  **Assemble:** Spoon the savory egg and vegetable mixture over the toasted bread. Enjoy!\n"
          ]
        }
      ],
      "source": [
        "if __name__ == \"__main__\":\n",
        "    main()"
      ]
    },
    {
      "cell_type": "code",
      "source": [],
      "metadata": {
        "id": "DyrmoYn8F7Yv"
      },
      "execution_count": null,
      "outputs": []
    }
  ],
  "metadata": {
    "colab": {
      "provenance": []
    },
    "kernelspec": {
      "display_name": "Python 3",
      "name": "python3"
    },
    "language_info": {
      "name": "python"
    }
  },
  "nbformat": 4,
  "nbformat_minor": 0
}